{
 "cells": [
  {
   "cell_type": "code",
   "execution_count": 2,
   "metadata": {},
   "outputs": [],
   "source": [
    "#pragma cling add_include_path(\"/usr/local/cuda/include\")\n",
    "#pragma cling add_include_path(\"/usr/lib/openmpi/include\")\n",
    "#include <iostream>\n",
    "\n",
    "\n",
    "// #include \"../equations/wave.h\"\n",
    "// #include \"../decomposition/decomp.h\"\n",
    "struct Address\n",
    "{\n",
    "    int owner, localIdx, globalx, globaly;\n",
    "    \n",
    "};\n",
    "\n",
    "\n",
    "struct Neighbor\n",
    "{\n",
    "    const std::vector<Address> neighbor;\n",
    "    const Address owner;\n",
    "    Neighbor(Address *stencil) : owner(stencil[0]), neighbor(stencil+1, stencil+4) {}\n",
    "};\n",
    "\n",
    "Address addr = {2, 3, 5, 6};\n"
   ]
  },
  {
   "cell_type": "code",
   "execution_count": 3,
   "metadata": {},
   "outputs": [
    {
     "name": "stdout",
     "output_type": "stream",
     "text": [
      "6 2\n"
     ]
    }
   ],
   "source": [
    "Address addo = {6, 8, 9, 6};\n",
    "Address addri[4];\n",
    "addri[0] = addo;\n",
    "addri[1] = addr;\n",
    "addri[2] = addo;\n",
    "addri[3] = addr;\n",
    "\n",
    "Neighbor Bob(&addri[0]);\n",
    "\n",
    "std::cout << Bob.owner.owner << \" \" << Bob.neighbor[0].owner << std::endl;"
   ]
  },
  {
   "cell_type": "code",
   "execution_count": 2,
   "metadata": {},
   "outputs": [
    {
     "name": "stderr",
     "output_type": "stream",
     "text": [
      "\u001b[1minput_line_8:2:2: \u001b[0m\u001b[0;1;31merror: \u001b[0m\u001b[1munknown type name 'Address'\u001b[0m\n",
      " Address *boi[10];\n",
      "\u001b[0;1;32m ^\n",
      "\u001b[0m\u001b[1minput_line_8:3:35: \u001b[0m\u001b[0;1;31merror: \u001b[0m\u001b[1muse of undeclared identifier 'Address'\u001b[0m\n",
      "for (int k=0; k<10; k++) *boi[k]=(Address){k,  k*k, k/2, 2*k};\n",
      "\u001b[0;1;32m                                  ^\n",
      "\u001b[0m"
     ]
    },
    {
     "ename": "Interpreter Error",
     "evalue": "",
     "output_type": "error",
     "traceback": [
      "Interpreter Error: "
     ]
    }
   ],
   "source": [
    "Address *boi[10];\n",
    "for (int k=0; k<10; k++) *boi[k]=(Address){k,  k*k, k/2, 2*k};"
   ]
  },
  {
   "cell_type": "code",
   "execution_count": 10,
   "metadata": {},
   "outputs": [
    {
     "name": "stderr",
     "output_type": "stream",
     "text": [
      "\u001b[1minput_line_18:3:2: \u001b[0m\u001b[0;1;31merror: \u001b[0m\u001b[1mexpected ';' after expression\u001b[0m\n",
      "x{1, 2, 2, 3, 7};\n",
      "\u001b[0;1;32m ^\n",
      "\u001b[0m\u001b[0;32m ;\n",
      "\u001b[0m\u001b[1minput_line_18:3:16: \u001b[0m\u001b[0;1;31merror: \u001b[0m\u001b[1mexpected ';' after expression\u001b[0m\n",
      "x{1, 2, 2, 3, 7};\n",
      "\u001b[0;1;32m               ^\n",
      "\u001b[0m\u001b[0;32m               ;\n",
      "\u001b[0m"
     ]
    },
    {
     "ename": "Interpreter Error",
     "evalue": "",
     "output_type": "error",
     "traceback": [
      "Interpreter Error: "
     ]
    }
   ],
   "source": [
    "int x[5];\n",
    "x{1, 2, 2, 3, 7};\n",
    "bool"
   ]
  },
  {
   "cell_type": "code",
   "execution_count": 8,
   "metadata": {},
   "outputs": [],
   "source": [
    "Address addoo[12];\n",
    "for (int k=0; k<12; k++) addoo[k]= {2, 2, 5, 8};\n"
   ]
  },
  {
   "cell_type": "code",
   "execution_count": 10,
   "metadata": {},
   "outputs": [
    {
     "data": {
      "text/plain": [
       "2"
      ]
     },
     "execution_count": 10,
     "metadata": {},
     "output_type": "execute_result"
    }
   ],
   "source": [
    "addoo[1].owner"
   ]
  },
  {
   "cell_type": "code",
   "execution_count": 13,
   "metadata": {},
   "outputs": [],
   "source": [
    "Neighbor **neigh;\n",
    "neigh = new Neighbor *[5];\n",
    "neigh[0] = new Neighbor(&addoo[0]);\n",
    "    "
   ]
  },
  {
   "cell_type": "code",
   "execution_count": 15,
   "metadata": {},
   "outputs": [
    {
     "name": "stdout",
     "output_type": "stream",
     "text": [
      "2\n"
     ]
    }
   ],
   "source": [
    "std::cout << neigh[0]->owner.owner << std::endl; "
   ]
  },
  {
   "cell_type": "code",
   "execution_count": 16,
   "metadata": {},
   "outputs": [
    {
     "name": "stdout",
     "output_type": "stream",
     "text": [
      "1\n"
     ]
    }
   ],
   "source": [
    "std::cout << sizeof(bool) << std::endl;"
   ]
  },
  {
   "cell_type": "code",
   "execution_count": 5,
   "metadata": {},
   "outputs": [
    {
     "name": "stdout",
     "output_type": "stream",
     "text": [
      "4\n"
     ]
    }
   ],
   "source": [
    "std::cout << sizeof(int) << std::endl;\n"
   ]
  },
  {
   "cell_type": "code",
   "execution_count": 2,
   "metadata": {},
   "outputs": [
    {
     "name": "stdout",
     "output_type": "stream",
     "text": [
      "15\n"
     ]
    }
   ],
   "source": [
    "// Example program\n",
    "#include <iostream>\n",
    "#include <string>\n",
    "\n",
    "\n",
    "int mfun(float *inpu)\n",
    "{\n",
    "   float ib = *inpu;\n",
    "   return (ib * ib)/5;\n",
    "}\n",
    "\n",
    "typedef int (*thisfunn)(float* );\n",
    "\n",
    "class bjay\n",
    "{\n",
    "   thisfunn passF;\n",
    "   public:    \n",
    "       int pass2;\n",
    "       bjay(thisfunn onef) : passF(onef) {}\n",
    "       void passit(float i)\n",
    "       {\n",
    "           pass2 = passF(&i);  \n",
    "       }\n",
    "};\n",
    "\n",
    "\n",
    "bjay bmark(*mfun);\n",
    "bmark.passit(8.8);\n",
    "std::cout << bmark.pass2 << std::endl;  \n"
   ]
  },
  {
   "cell_type": "code",
   "execution_count": 4,
   "metadata": {},
   "outputs": [
    {
     "name": "stderr",
     "output_type": "stream",
     "text": [
      "\u001b[1minput_line_16:2:14: \u001b[0m\u001b[0;1;31merror: \u001b[0m\u001b[1mredefinition of 'bo'\u001b[0m\n",
      " std::string bo = \"A\";\n",
      "\u001b[0;1;32m             ^\n",
      "\u001b[0m\u001b[1minput_line_14:2:14: \u001b[0m\u001b[0;1;30mnote: \u001b[0mprevious definition is here\u001b[0m\n",
      " std::string bo = \"A\";\n",
      "\u001b[0;1;32m             ^\n",
      "\u001b[0m"
     ]
    },
    {
     "ename": "Interpreter Error",
     "evalue": "",
     "output_type": "error",
     "traceback": [
      "Interpreter Error: "
     ]
    }
   ],
   "source": [
    "#include <string>\n",
    "std::string bo = \"A\";\n"
   ]
  },
  {
   "cell_type": "code",
   "execution_count": 5,
   "metadata": {},
   "outputs": [
    {
     "name": "stdout",
     "output_type": "stream",
     "text": [
      "A\n"
     ]
    }
   ],
   "source": [
    "std::string oboe = bo;\n",
    "std::cout << oboe << std::endl;"
   ]
  },
  {
   "cell_type": "code",
   "execution_count": 6,
   "metadata": {},
   "outputs": [
    {
     "name": "stdout",
     "output_type": "stream",
     "text": [
      "BA\n"
     ]
    }
   ],
   "source": [
    "oboe = \"B\";\n",
    "std::cout << oboe << bo << std::endl;"
   ]
  },
  {
   "cell_type": "code",
   "execution_count": null,
   "metadata": {},
   "outputs": [],
   "source": []
  }
 ],
 "metadata": {
  "kernelspec": {
   "display_name": "C++11",
   "language": "C++11",
   "name": "xeus-cling-cpp11"
  },
  "language_info": {
   "codemirror_mode": "text/x-c++src",
   "file_extension": ".cpp",
   "mimetype": "text/x-c++src",
   "name": "c++",
   "version": "11"
  }
 },
 "nbformat": 4,
 "nbformat_minor": 2
}
